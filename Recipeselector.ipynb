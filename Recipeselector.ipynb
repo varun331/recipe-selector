{
 "cells": [
  {
   "cell_type": "code",
   "execution_count": 2,
   "metadata": {},
   "outputs": [],
   "source": [
    "#pip install gspread oauth2client\n",
    "\n",
    "import gspread\n",
    "from oauth2client.service_account import ServiceAccountCredentials\n",
    "from pprint import pprint\n",
    "import json, ast\n",
    "\n",
    "\n",
    "\n",
    "\n",
    "#pprint (data)\n",
    "\n",
    "#row = sheet.row_values(3)  # Get a specific row, rows in google sheet start with 1 as the index value\n",
    "#col = sheet.col_values(3)  # Get a specific column\n",
    "#cell = sheet.cell(1,2).value  # Get the value of a specific cell\n",
    "\n",
    "#insertRow = [\"hello\", 5, \"red\", \"blue\"]\n",
    "#sheet.add_rows(insertRow, 4)  # Insert the list as a row at index 4\n",
    "\n",
    "#sheet.update_cell(2,2, \"CHANGED\")  # Update one cell\n",
    "\n",
    "#numRows = sheet.row_count  # Get the number of rows in the sheet"
   ]
  },
  {
   "cell_type": "code",
   "execution_count": 9,
   "metadata": {},
   "outputs": [],
   "source": [
    "import numpy as ny\n",
    "import pandas as pd\n",
    "import random\n",
    "from datetime import datetime,timedelta\n",
    "\n",
    "def display_recepie():\n",
    "\n",
    "    scope = [\"https://spreadsheets.google.com/feeds\",'https://www.googleapis.com/auth/spreadsheets',\"https://www.googleapis.com/auth/drive.file\",\"https://www.googleapis.com/auth/drive\"]\n",
    "    creds = ServiceAccountCredentials.from_json_keyfile_name(\"creds.json\", scope)\n",
    "    client = gspread.authorize(creds)\n",
    "    sheet = client.open(\"recipeselector\").sheet1  # Open the spreadhseet\n",
    "    raw = sheet.get_all_records()\n",
    "    data = ast.literal_eval(json.dumps(raw))\n",
    "\n",
    "    test = pd.DataFrame.from_dict(data)\n",
    "    a =  test.copy()\n",
    "    today=(datetime.today() - timedelta(days=14)).strftime('%m/%d/%Y')\n",
    "    pa=0\n",
    "\n",
    "    type1=a[(a.Type==1) & (a.Date<=today)]\n",
    "    if pa == 1:\n",
    "        type2=a[(a.Type==2) & (a.Date<=today)]\n",
    "    else:\n",
    "        type2=a[(a.Type==2)&(a.Date<=today)&(a.ing!='pa')]\n",
    "\n",
    "    b = {}\n",
    "\n",
    "    list1 = type1.index.values.tolist()\n",
    "    list2 = type2.index.values.tolist()\n",
    "    d = random.choice(list1)\n",
    "    b.update(dict(zip(type1.loc[[d]].Dish,type1.loc[[d]].ing)))\n",
    "\n",
    "#three sabji (3) and one daal (1), within sabji no repeat of ing and date criteria\n",
    "\n",
    "\n",
    "    for i in range(len(type2)):\n",
    "             if (len(b)<4):\n",
    "                r = random.choice(list2)\n",
    "                if type2.loc[[r]].ing.item() not in b.values():\n",
    "                    b.update(dict(zip(type2.loc[[r]].Dish,type2.loc[[r]].ing)))\n",
    "                    list2.remove(r)\n",
    "    return(b)\n"
   ]
  },
  {
   "cell_type": "code",
   "execution_count": null,
   "metadata": {},
   "outputs": [],
   "source": [
    "{'kala channa ': 'k', 'turnip bharta ': 't', '4 daal mix': 'd', 'aloo beans coconut oil': 'a'}\n",
    "\n",
    "turnip bharta ': 't', 'aloo capsicum': 'a', 'lasooni palak dal': 'd', 'veg Korma': 'v'}\n",
    "\n",
    "{'broccoli red pepper sauce': 'g', 'turnip bharta ': 't', 'veg Korma': 'v', '4 daal mix': 'd'}\n",
    "\n",
    "{'broccoli red pepper sauce': 'g', 'saag ': 'p', 'dahi kadi with pakoda': 'd', 'kala channa ': 'l'}"
   ]
  },
  {
   "cell_type": "code",
   "execution_count": 462,
   "metadata": {},
   "outputs": [
    {
     "data": {
      "text/plain": [
       "7    False\n",
       "Name: Date, dtype: bool"
      ]
     },
     "execution_count": 462,
     "metadata": {},
     "output_type": "execute_result"
    }
   ],
   "source": [
    "raw[(raw.Date=='05/12/2019') & (raw.Type==1)].Date < t"
   ]
  },
  {
   "cell_type": "code",
   "execution_count": 465,
   "metadata": {},
   "outputs": [
    {
     "data": {
      "text/html": [
       "<div>\n",
       "<style scoped>\n",
       "    .dataframe tbody tr th:only-of-type {\n",
       "        vertical-align: middle;\n",
       "    }\n",
       "\n",
       "    .dataframe tbody tr th {\n",
       "        vertical-align: top;\n",
       "    }\n",
       "\n",
       "    .dataframe thead th {\n",
       "        text-align: right;\n",
       "    }\n",
       "</style>\n",
       "<table border=\"1\" class=\"dataframe\">\n",
       "  <thead>\n",
       "    <tr style=\"text-align: right;\">\n",
       "      <th></th>\n",
       "      <th>Date</th>\n",
       "      <th>Dish</th>\n",
       "      <th>Row</th>\n",
       "      <th>Score</th>\n",
       "      <th>Type</th>\n",
       "      <th>ing</th>\n",
       "    </tr>\n",
       "  </thead>\n",
       "  <tbody>\n",
       "    <tr>\n",
       "      <th>3</th>\n",
       "      <td>01/01/2019</td>\n",
       "      <td>Gujarati dal</td>\n",
       "      <td>5</td>\n",
       "      <td>3.0</td>\n",
       "      <td>1</td>\n",
       "      <td></td>\n",
       "    </tr>\n",
       "    <tr>\n",
       "      <th>4</th>\n",
       "      <td>01/01/2019</td>\n",
       "      <td>4 daal mix</td>\n",
       "      <td>6</td>\n",
       "      <td>3.0</td>\n",
       "      <td>1</td>\n",
       "      <td></td>\n",
       "    </tr>\n",
       "    <tr>\n",
       "      <th>5</th>\n",
       "      <td>01/01/2019</td>\n",
       "      <td>lasooni palak dal</td>\n",
       "      <td>7</td>\n",
       "      <td>3.0</td>\n",
       "      <td>1</td>\n",
       "      <td></td>\n",
       "    </tr>\n",
       "    <tr>\n",
       "      <th>6</th>\n",
       "      <td>01/01/2019</td>\n",
       "      <td>amti</td>\n",
       "      <td>8</td>\n",
       "      <td>4.0</td>\n",
       "      <td>1</td>\n",
       "      <td></td>\n",
       "    </tr>\n",
       "    <tr>\n",
       "      <th>8</th>\n",
       "      <td>01/01/2019</td>\n",
       "      <td>dahi kadi with pakoda</td>\n",
       "      <td>11</td>\n",
       "      <td>3.5</td>\n",
       "      <td>1</td>\n",
       "      <td></td>\n",
       "    </tr>\n",
       "  </tbody>\n",
       "</table>\n",
       "</div>"
      ],
      "text/plain": [
       "         Date                   Dish  Row  Score  Type ing\n",
       "3  01/01/2019           Gujarati dal    5    3.0     1    \n",
       "4  01/01/2019             4 daal mix    6    3.0     1    \n",
       "5  01/01/2019      lasooni palak dal    7    3.0     1    \n",
       "6  01/01/2019                  amti     8    4.0     1    \n",
       "8  01/01/2019  dahi kadi with pakoda   11    3.5     1    "
      ]
     },
     "execution_count": 465,
     "metadata": {},
     "output_type": "execute_result"
    }
   ],
   "source": [
    "type1"
   ]
  },
  {
   "cell_type": "code",
   "execution_count": 10,
   "metadata": {},
   "outputs": [
    {
     "data": {
      "text/plain": [
       "{'aloo beans coconut oil': 'a',\n",
       " 'broccoli red pepper sauce': 'g',\n",
       " 'corn bharta': 'c',\n",
       " 'lasooni palak dal': 'd'}"
      ]
     },
     "execution_count": 10,
     "metadata": {},
     "output_type": "execute_result"
    }
   ],
   "source": [
    "#pick radom variable, check for condition if date is within 2 week, if yes then if the item + sum of all items in an array is between 15 to 20, if yes then append.  If not then pop from original array\n",
    "display_recepie()"
   ]
  },
  {
   "cell_type": "code",
   "execution_count": 138,
   "metadata": {},
   "outputs": [],
   "source": [
    "#from datetime import datetime\n",
    "#import random\n",
    "\n",
    "#datetime_object = datetime.strptime(data[0]['Date'], '%m/%d/%Y')\n",
    "#datetime_object.date()\n",
    "\n",
    "#list = test.index.values\n",
    "#test.iloc[[random.choice(list)]]\n",
    "#test.iloc[[4]]\n",
    "#test1 = test.copy()\n",
    "#test1.drop(0,axis=0,inplace=True)\n"
   ]
  },
  {
   "cell_type": "code",
   "execution_count": 228,
   "metadata": {},
   "outputs": [],
   "source": []
  },
  {
   "cell_type": "code",
   "execution_count": null,
   "metadata": {},
   "outputs": [],
   "source": []
  }
 ],
 "metadata": {
  "kernelspec": {
   "display_name": "Python 2",
   "language": "python",
   "name": "python2"
  },
  "language_info": {
   "codemirror_mode": {
    "name": "ipython",
    "version": 2
   },
   "file_extension": ".py",
   "mimetype": "text/x-python",
   "name": "python",
   "nbconvert_exporter": "python",
   "pygments_lexer": "ipython2",
   "version": "2.7.15"
  }
 },
 "nbformat": 4,
 "nbformat_minor": 2
}
